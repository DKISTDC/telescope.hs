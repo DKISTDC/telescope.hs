{
 "cells": [
  {
   "cell_type": "code",
   "execution_count": 1,
   "id": "e9deaf22-763f-4dbb-b5ae-a5c3f3d6c411",
   "metadata": {},
   "outputs": [],
   "source": [
    "import asdf\n",
    "from astropy.io import fits\n",
    "import numpy as np\n",
    "import matplotlib.pyplot as plt"
   ]
  },
  {
   "cell_type": "code",
   "execution_count": 13,
   "id": "cabb3e1e-f1cd-47ad-b285-7131b37b086b",
   "metadata": {},
   "outputs": [
    {
     "name": "stdout",
     "output_type": "stream",
     "text": [
      "['one', 'two']\n",
      "24\n",
      "[[1, 2, 3], [4, 5, 6]]\n"
     ]
    }
   ],
   "source": [
    "gen = asdf.open(\"generated.asdf\")\n",
    "print(gen.tree[\"tags\"])\n",
    "print(gen.tree[\"number\"])\n",
    "print(gen.tree[\"matrix\"].tolist())"
   ]
  }
 ],
 "metadata": {
  "kernelspec": {
   "display_name": "Python 3 (ipykernel)",
   "language": "python",
   "name": "python3"
  },
  "language_info": {
   "codemirror_mode": {
    "name": "ipython",
    "version": 3
   },
   "file_extension": ".py",
   "mimetype": "text/x-python",
   "name": "python",
   "nbconvert_exporter": "python",
   "pygments_lexer": "ipython3",
   "version": "3.10.5"
  }
 },
 "nbformat": 4,
 "nbformat_minor": 5
}
